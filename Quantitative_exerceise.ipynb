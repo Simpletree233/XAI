{
 "cells": [
  {
   "cell_type": "markdown",
   "metadata": {},
   "source": [
    "## Quantitative exercise\n",
    "1. Identify which are your independent variables and which are your dependent variables (in the data which you have collected or generated). Write a description of the expected properties of each of these variables.\n",
    "\n",
    "1. Perform exploratory data analysis. Does your data have the expected properties? If not, can you identify why it does not?\n",
    "\n",
    "1. Identify what statistical tools you will apply to analyze your data. If you have a model for the relationship between the independent and the dependent variables fit your data to this model. If you do not have a model, what could you to do identify a model, for example using principal component analysis?\n",
    "\n",
    "1. Generate some visual aids (such as tables or graphs) to present your data to others."
   ]
  },
  {
   "cell_type": "markdown",
   "metadata": {},
   "source": [
    "As our project goal is to improve performance in MobileNet, we have a model, some data set and a LIME model."
   ]
  },
  {
   "cell_type": "markdown",
   "metadata": {},
   "source": [
    "Independeng variables: \n",
    "1. Model hyperparameters \n",
    "    1. combination of different layers\n",
    "    2. number of neurons\n",
    "    3. ...\n",
    "2. Training/ validation data set\n",
    "    1. This includes images parameters such as image contrast, resolution, size, white balance, exposure, histogram,...\n",
    "    2. quantity of training data\n",
    "    3. Distribution of training data, such as \n",
    "3. LIME model parameters\n",
    "    1. It depends on which representative model we choose, for example decision tree, it would be: max_depth, gini index...\n",
    "    \n",
    "    \n",
    "**But like explainability and fidelity of the model, such attributes are not quantifiable. But maybe we can find a reliability metrics to perform quantitative analysis**\n",
    "----------------------------------------------------------------\n",
    "\n",
    "Dependent variables: \n",
    "\n",
    "1. Model performance, such as accuracy, recall..\n",
    "2. ..."
   ]
  },
  {
   "cell_type": "markdown",
   "metadata": {},
   "source": [
    "Gerald Quentin Maguire Jr:\n",
    "\n",
    "\"The expected properties of the data could be a **correlation of variables, trends in the data, having a specific statistical distribution, having a given resolution, etc.**\"\n",
    "\n",
    " "
   ]
  },
  {
   "cell_type": "markdown",
   "metadata": {},
   "source": [
    "Expected properties of above-mentioned variables:\n",
    "\n",
    "1. Model hyperparameters, those variables contribute to model performance, in a black-box manner \n",
    "    \n",
    "2. Training/ validation data set, whese variables are interrealated\n",
    "    1. The ratio between training and validation data set will affect model fitness\n",
    "    2. quantity of data will affect model generalization\n",
    "3. LIME model parameters\n",
    "    1. It depends on which representative model we choose, for example decision tree, it would be: max_depth, gini index..."
   ]
  },
  {
   "cell_type": "markdown",
   "metadata": {},
   "source": [
    "### The model could be decision trees or any other explainable models\n",
    "Such as:\n",
    "1. decision trees\n",
    "2. linear models\n",
    "3. falling rule lists\n",
    "4. knowledge graph"
   ]
  },
  {
   "cell_type": "code",
   "execution_count": null,
   "metadata": {},
   "outputs": [],
   "source": []
  },
  {
   "cell_type": "markdown",
   "metadata": {},
   "source": []
  }
 ],
 "metadata": {
  "kernelspec": {
   "display_name": "Python 3",
   "language": "python",
   "name": "python3"
  },
  "language_info": {
   "codemirror_mode": {
    "name": "ipython",
    "version": 3
   },
   "file_extension": ".py",
   "mimetype": "text/x-python",
   "name": "python",
   "nbconvert_exporter": "python",
   "pygments_lexer": "ipython3",
   "version": "3.8.5"
  }
 },
 "nbformat": 4,
 "nbformat_minor": 4
}
